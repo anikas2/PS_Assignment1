{
 "cells": [
  {
   "cell_type": "code",
   "execution_count": 18,
   "id": "dd4d5b2a",
   "metadata": {},
   "outputs": [
    {
     "name": "stdout",
     "output_type": "stream",
     "text": [
      "Enter the first number: 1\n",
      "Enter the second number: 5\n",
      "[1, 5, 6, 1, 7, 8, 5, 3, 8, 1, 9, 0, 9, 9, 8, 7, 5, 2, 7, 9, 6, 5, 1, 6, 7, 3, 0, 3, 3, 6, 9, 5, 4, 9, 3, 2, 5, 7, 2, 9, 1, 0, 1, 1, 2, 3, 5, 8, 3, 1, 4, 5, 9, 4, 3, 7, 0, 7, 7, 4]\n",
      "Length of the final sequence: 60\n"
     ]
    }
   ],
   "source": [
    "# function to generate the sequence and cut off at repetitions\n",
    "def generate_sequence(entry1, entry2):\n",
    "    sequence = [entry1, entry2]\n",
    "    seen_pairs = set()\n",
    "\n",
    "    while True:\n",
    "        next_term = (sequence[-2] + sequence[-1]) % 10\n",
    "        sequence.append(next_term)\n",
    "\n",
    "        current_pair = (sequence[-2], sequence[-1])\n",
    "\n",
    "        # Check for a cycle\n",
    "        if current_pair in seen_pairs:\n",
    "            break\n",
    "\n",
    "        seen_pairs.add(current_pair)\n",
    "\n",
    "    return sequence\n",
    "\n",
    "# Example usage:\n",
    "entry1 = int(input(\"Enter the first number: \"))\n",
    "entry2 = int(input(\"Enter the second number: \"))\n",
    "\n",
    "result_sequence = generate_sequence(entry1, entry2)\n",
    "print(result_sequence[:-3])\n",
    "print(\"Length of the final sequence:\", len(result_sequence[:-3]))\n",
    "\n"
   ]
  },
  {
   "cell_type": "code",
   "execution_count": 15,
   "id": "81e08127",
   "metadata": {},
   "outputs": [
    {
     "name": "stdout",
     "output_type": "stream",
     "text": [
      "Enter the first number: 1\n",
      "Enter the second number:1\n",
      "Generated sequence: [1, 1, 2, 3, 5, 8, 3, 1, 4, 5, 9, 4, 3, 7, 0, 7, 7, 4, 1, 5, 6, 1, 7, 8, 5, 3, 8, 1, 9, 0, 9, 9, 8, 7, 5, 2, 7, 9, 6, 5, 1, 6, 7, 3, 0, 3, 3, 6, 9, 5, 4, 9, 3, 2, 5, 7, 2, 9, 1, 0]\n",
      "Length of the final sequence: 60\n"
     ]
    }
   ],
   "source": [
    "def generate_sequence(entry1, entry2):\n",
    "    sequence = [entry1, entry2]\n",
    "    seen_pairs = set()\n",
    "\n",
    "    while True:\n",
    "        next_term = (sequence[-2] + sequence[-1]) % 10\n",
    "        sequence.append(next_term)\n",
    "\n",
    "        current_pair = (sequence[-2], sequence[-1])\n",
    "\n",
    "        # Check for a cycle\n",
    "        if current_pair in seen_pairs:\n",
    "            break\n",
    "\n",
    "        seen_pairs.add(current_pair)\n",
    "\n",
    "    return sequence\n",
    "\n",
    "# Example usage:\n",
    "entry1 = int(input(\"Enter the first number: \"))\n",
    "entry2 = int(input(\"Enter the second number:\"))\n",
    "\n",
    "result_sequence = generate_sequence(entry1, entry2)\n",
    "trimmed_sequence = result_sequence[:-3]  # Exclude the last three elements\n",
    "\n",
    "print(\"Generated sequence:\", trimmed_sequence)\n",
    "print(\"Length of the final sequence:\", len(trimmed_sequence))\n"
   ]
  },
  {
   "cell_type": "code",
   "execution_count": 16,
   "id": "3dc5671c",
   "metadata": {},
   "outputs": [
    {
     "name": "stdout",
     "output_type": "stream",
     "text": [
      "Possible lengths of trimmed sequences: [1, 3, 4, 12, 20, 60]\n",
      "Number of unique lengths: 6\n"
     ]
    }
   ],
   "source": [
    "def generate_sequence(entry1, entry2):\n",
    "    sequence = [entry1, entry2]\n",
    "    seen_pairs = set()\n",
    "\n",
    "    while True:\n",
    "        next_term = (sequence[-2] + sequence[-1]) % 10\n",
    "        sequence.append(next_term)\n",
    "\n",
    "        current_pair = (sequence[-2], sequence[-1])\n",
    "\n",
    "        # Check for a cycle\n",
    "        if current_pair in seen_pairs:\n",
    "            break\n",
    "\n",
    "        seen_pairs.add(current_pair)\n",
    "\n",
    "    return sequence[:-3]\n",
    "\n",
    "# Count unique lengths of trimmed sequences\n",
    "unique_lengths = set()\n",
    "\n",
    "for entry1 in range(10):\n",
    "    for entry2 in range(10):\n",
    "        result_sequence = generate_sequence(entry1, entry2)\n",
    "        unique_lengths.add(len(result_sequence))\n",
    "\n",
    "# Print results\n",
    "print(\"Possible lengths of trimmed sequences:\", sorted(unique_lengths))\n",
    "print(\"Number of unique lengths:\", len(unique_lengths))\n"
   ]
  },
  {
   "cell_type": "code",
   "execution_count": null,
   "id": "b8fdbeaa",
   "metadata": {},
   "outputs": [],
   "source": []
  }
 ],
 "metadata": {
  "kernelspec": {
   "display_name": "Python 3 (ipykernel)",
   "language": "python",
   "name": "python3"
  },
  "language_info": {
   "codemirror_mode": {
    "name": "ipython",
    "version": 3
   },
   "file_extension": ".py",
   "mimetype": "text/x-python",
   "name": "python",
   "nbconvert_exporter": "python",
   "pygments_lexer": "ipython3",
   "version": "3.11.5"
  }
 },
 "nbformat": 4,
 "nbformat_minor": 5
}
