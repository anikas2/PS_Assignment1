{
 "cells": [
  {
   "cell_type": "code",
   "execution_count": 22,
   "id": "33d87c0f",
   "metadata": {},
   "outputs": [
    {
     "name": "stdout",
     "output_type": "stream",
     "text": [
      "Enter the first number: 1\n",
      "Enter the second number: 2\n",
      "[1, 2, 3, 5, 8, 3, 1, 4, 5, 9, 4, 3, 7, 0, 7, 7, 4, 1, 5, 6, 1, 7, 8, 5, 3, 8, 1, 9, 0, 9, 9, 8, 7, 5, 2, 7, 9, 6, 5, 1, 6, 7, 3, 0, 3, 3, 6, 9, 5, 4, 9, 3, 2, 5, 7, 2, 9, 1, 0, 1]\n",
      "Length of the final sequence: 60\n"
     ]
    }
   ],
   "source": [
    "# function to generate the sequence and cut off at repetition\n",
    "def generate_sequence(entry1, entry2):\n",
    "    sequence = [entry1, entry2]\n",
    "    # store all pairs of numbers seen (tuples)\n",
    "    seen_pairs = set()\n",
    "\n",
    "    while True:\n",
    "        next_term = (sequence[-2] + sequence[-1]) % 10\n",
    "        sequence.append(next_term)\n",
    "\n",
    "        current_pair = (sequence[-2], sequence[-1])\n",
    "\n",
    "        # check for a cycle by comparing against all previous pairs\n",
    "        if current_pair in seen_pairs:\n",
    "            break\n",
    "\n",
    "        seen_pairs.add(current_pair)\n",
    "\n",
    "    return sequence\n",
    "\n",
    "# generate an example:\n",
    "entry1 = int(input(\"Enter the first number: \"))\n",
    "entry2 = int(input(\"Enter the second number: \"))\n",
    "\n",
    "# print sequence and length\n",
    "result_sequence = generate_sequence(entry1, entry2)\n",
    "print(result_sequence[:-3])\n",
    "print(\"Length of the final sequence:\", len(result_sequence[:-3]))\n",
    "\n"
   ]
  },
  {
   "cell_type": "code",
   "execution_count": 23,
   "id": "38fdecdd",
   "metadata": {},
   "outputs": [
    {
     "name": "stdout",
     "output_type": "stream",
     "text": [
      "Possible lengths of trimmed sequences: [1, 3, 4, 12, 20, 60]\n",
      "Number of unique lengths: 6\n"
     ]
    }
   ],
   "source": [
    "# function to generate the sequence and cut off at repetition\n",
    "def generate_sequence(entry1, entry2):\n",
    "    sequence = [entry1, entry2]\n",
    "    # store all pairs of numbers seen (tuples)\n",
    "    seen_pairs = set()\n",
    "\n",
    "    while True:\n",
    "        next_term = (sequence[-2] + sequence[-1]) % 10\n",
    "        sequence.append(next_term)\n",
    "\n",
    "        current_pair = (sequence[-2], sequence[-1])\n",
    "\n",
    "        # check for a cycle by comparing against all previous pairs\n",
    "        if current_pair in seen_pairs:\n",
    "            break\n",
    "\n",
    "        seen_pairs.add(current_pair)\n",
    "\n",
    "    return sequence[:-3]\n",
    "\n",
    "# generate an example:\n",
    "unique_lengths = set()\n",
    "\n",
    "for entry1 in range(10):\n",
    "    for entry2 in range(10):\n",
    "        result_sequence = generate_sequence(entry1, entry2)\n",
    "        unique_lengths.add(len(result_sequence))\n",
    "\n",
    "# print sequence and length\n",
    "print(\"Possible lengths of trimmed sequences:\", sorted(unique_lengths))\n",
    "print(\"Number of unique lengths:\", len(unique_lengths))\n"
   ]
  },
  {
   "cell_type": "code",
   "execution_count": null,
   "id": "89469c18",
   "metadata": {},
   "outputs": [],
   "source": []
  }
 ],
 "metadata": {
  "kernelspec": {
   "display_name": "Python 3 (ipykernel)",
   "language": "python",
   "name": "python3"
  },
  "language_info": {
   "codemirror_mode": {
    "name": "ipython",
    "version": 3
   },
   "file_extension": ".py",
   "mimetype": "text/x-python",
   "name": "python",
   "nbconvert_exporter": "python",
   "pygments_lexer": "ipython3",
   "version": "3.11.5"
  }
 },
 "nbformat": 4,
 "nbformat_minor": 5
}
